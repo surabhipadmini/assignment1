{
  "nbformat": 4,
  "nbformat_minor": 0,
  "metadata": {
    "colab": {
      "name": "Copy of Welcome To Colaboratory",
      "provenance": [],
      "collapsed_sections": [],
      "toc_visible": true,
      "include_colab_link": true
    },
    "kernelspec": {
      "display_name": "Python 3",
      "name": "python3"
    }
  },
  "cells": [
    {
      "cell_type": "markdown",
      "metadata": {
        "id": "view-in-github",
        "colab_type": "text"
      },
      "source": [
        "<a href=\"https://colab.research.google.com/github/surabhipadmini/assignment1/blob/master/Copy_of_Welcome_To_Colaboratory.ipynb\" target=\"_parent\"><img src=\"https://colab.research.google.com/assets/colab-badge.svg\" alt=\"Open In Colab\"/></a>"
      ]
    },
    {
      "cell_type": "code",
      "metadata": {
        "id": "pMcGU4R1fG-0",
        "colab_type": "code",
        "colab": {
          "base_uri": "https://localhost:8080/",
          "height": 85
        },
        "outputId": "7e25327e-87ac-4d2b-fa46-a627ac2d8b84"
      },
      "source": [
        "#1. given the lengths of three sides of the triangle calculate the area of the triangle\n",
        "a=float(input(\"enter the length of 1st side of the triangle\"))\n",
        "b=float(input(\"enter the length of 2nd side of the triangle\"))\n",
        "c=float(input(\"enter the length of 3rd side of the triangle\"))\n",
        "if(a+b>c):\n",
        "  s=(a+b+c)/2\n",
        "  area=(s*(s-a)*(s-b)*(s-c))**(1/2)\n",
        "  print(\"the area of the triangle is =\",round(area,2))\n",
        "else:\n",
        "  print(\"the triangle is not possible\")"
      ],
      "execution_count": null,
      "outputs": [
        {
          "output_type": "stream",
          "text": [
            "enter the length of 1st side of the triangle10\n",
            "enter the length of 2nd side of the triangle10\n",
            "enter the length of 3rd side of the triangle10\n",
            "the area of the triangle is = 43.3\n"
          ],
          "name": "stdout"
        }
      ]
    },
    {
      "cell_type": "code",
      "metadata": {
        "id": "hIGFKMr1kwrb",
        "colab_type": "code",
        "colab": {
          "base_uri": "https://localhost:8080/",
          "height": 51
        },
        "outputId": "5f05f314-d7e9-4ed0-b547-67599c5e2d2f"
      },
      "source": [
        "#2. take a string from end user and check weather the value is palindrome or not\n",
        "s=input(\"enter a string\")\n",
        "if (s==s[::-1]):\n",
        "  print(\"given string {} is polindrome\".format(s))\n",
        "else:\n",
        "  print(\"given string {} is not polindrome\".format(s))"
      ],
      "execution_count": null,
      "outputs": [
        {
          "output_type": "stream",
          "text": [
            "enter a stringmadam\n",
            "given string madam is polindrome\n"
          ],
          "name": "stdout"
        }
      ]
    },
    {
      "cell_type": "code",
      "metadata": {
        "id": "CMhgGCmGqwI5",
        "colab_type": "code",
        "colab": {
          "base_uri": "https://localhost:8080/",
          "height": 51
        },
        "outputId": "4e59e18b-fcdb-47c8-8c7b-c40abc148be5"
      },
      "source": [
        "#3. write a program that reads a year from the user and displays the message indicating weather the year is leap year or not\n",
        "year=int(input(\"enter the year:\"))\n",
        "if (year%4==0 and year%100==0 or year%400==0):\n",
        "  print(\"{} the entered year is leap year\".format(year))\n",
        "else:\n",
        "  print(\"{}the entered year is not leap year\".format(year))"
      ],
      "execution_count": null,
      "outputs": [
        {
          "output_type": "stream",
          "text": [
            "enter the year:2020\n",
            "2020the entered year is not leap year\n"
          ],
          "name": "stdout"
        }
      ]
    },
    {
      "cell_type": "code",
      "metadata": {
        "id": "3GmkrywQYDfo",
        "colab_type": "code",
        "colab": {
          "base_uri": "https://localhost:8080/",
          "height": 51
        },
        "outputId": "279e9584-3a0b-4c59-b0f7-fabc0a00f3b0"
      },
      "source": [
        "#4. Space to hyphen problem\n",
        "# take a string as input,and replaces spaces\"\"with hyphen \"-\",and returns a string.\n",
        "# input: this program converts spaces into hyphen\"\n",
        "# output: \"this-program-converts-spaces-into-hyphen\"\n",
        "n=input(\"enter a string:\")\n",
        "print(n.replace(' ','-'))"
      ],
      "execution_count": 2,
      "outputs": [
        {
          "output_type": "stream",
          "text": [
            "enter a string:python function\n",
            "python-function\n"
          ],
          "name": "stdout"
        }
      ]
    },
    {
      "cell_type": "code",
      "metadata": {
        "id": "dP2csJt6Zywm",
        "colab_type": "code",
        "colab": {
          "base_uri": "https://localhost:8080/",
          "height": 51
        },
        "outputId": "92163b88-61ef-4f2b-8444-be91214bd845"
      },
      "source": [
        "#5. unique sort problem.\n",
        "# take a string as input that accepts a comma seperated of words as input and print the unique words in sorted form(alphanumerically).\n",
        "# input: orange,white,red,cyan,green,magenta,cyna,pink,white\n",
        "# output: cyan,green,magenta,orange,pink,red,white\n",
        "str=input(\"enter a string:\")\n",
        "s=str.split()\n",
        "s.sort()\n",
        "list(s)\n",
        "set(s)"
      ],
      "execution_count": 3,
      "outputs": [
        {
          "output_type": "stream",
          "text": [
            "enter a string:chocolates icecreams \n"
          ],
          "name": "stdout"
        },
        {
          "output_type": "execute_result",
          "data": {
            "text/plain": [
              "{'chocolates', 'icecreams'}"
            ]
          },
          "metadata": {
            "tags": []
          },
          "execution_count": 3
        }
      ]
    },
    {
      "cell_type": "code",
      "metadata": {
        "id": "iVkjN1raa4oL",
        "colab_type": "code",
        "colab": {
          "base_uri": "https://localhost:8080/",
          "height": 51
        },
        "outputId": "c5db4c5c-e90f-46e9-e357-8410e0a0d638"
      },
      "source": [
        "#6. Tax calculator\n",
        "# ask the user for their monthly salary. Calculate whwther they have to pay tax and if so,\n",
        "# how much is that amount. print the result.\n",
        "salary=int(input(\"enter the salary:\"))\n",
        "if (salary>=0) and (salary<=2500000):\n",
        "  tax=(salary*0)\n",
        "elif (salary>2500000) and (salary<=2500000):\n",
        "    tax=(salary*0.05)\n",
        "elif (salary>500000) and (salary<=750000):\n",
        "    tax=(salary*0.1)\n",
        "elif (salary>750000) and (salary<=1000000):\n",
        "    tax=(salary*0.15)\n",
        "elif (salary>1000000) and (salary<=1250000):\n",
        "    tax=(salary*0.2)\n",
        "elif (salary>1250000) and (salary<=1500000):\n",
        "    tax=(salary*0.25)\n",
        "else:\n",
        "    tax=(salary*0.3)\n",
        "print(\"tax is:\",tax)"
      ],
      "execution_count": 4,
      "outputs": [
        {
          "output_type": "stream",
          "text": [
            "enter the salary:3000000\n",
            "tax is: 900000.0\n"
          ],
          "name": "stdout"
        }
      ]
    },
    {
      "cell_type": "code",
      "metadata": {
        "id": "TrcJAhEjdbin",
        "colab_type": "code",
        "colab": {
          "base_uri": "https://localhost:8080/",
          "height": 34
        },
        "outputId": "86988547-377f-4dfd-b104-16240d244aeb"
      },
      "source": [
        "#7. take a list of integersn as a argument,and converts it into a single integer(return the integer)\n",
        "# input: [11,33,50]\n",
        "# output:[113350]\n",
        "l=11,33,50\n",
        "for i in l:\n",
        "  print(i,end=\"\")"
      ],
      "execution_count": null,
      "outputs": [
        {
          "output_type": "stream",
          "text": [
            "113350"
          ],
          "name": "stdout"
        }
      ]
    },
    {
      "cell_type": "code",
      "metadata": {
        "id": "qPn2iqRPfgmP",
        "colab_type": "code",
        "colab": {
          "base_uri": "https://localhost:8080/",
          "height": 102
        },
        "outputId": "b8873a0d-f788-4af4-98e7-757e49d4e3d6"
      },
      "source": [
        "#8. Units of Time\n",
        "#   Create a program that reads duration from the user as a number of days, hours, minutes, and seconds. \n",
        "#   Compute and display the total number of seconds represented by this duration.\n",
        "\n",
        "secondspermin=60\n",
        "secondsperhour=3600\n",
        "secondsperday=86400\n",
        "days=int(input(\"Enter the number of Days: \"))\n",
        "hours=int(input(\"Enter the number of Hours: \"))\n",
        "minutes=int(input(\"Enter the number of Minutes: \"))\n",
        "seconds=int(input(\"Enter the number of Seconds: \"))\n",
        "totalseconds=days*secondsperday\n",
        "totalseconds=totalseconds+(hours*secondsperhour)\n",
        "totalseconds=totalseconds+(minutes*secondspermin)\n",
        "totalseconds=totalseconds+seconds\n",
        "print(\"Total number of seconds = \",\"%d\"%(totalseconds))"
      ],
      "execution_count": 10,
      "outputs": [
        {
          "output_type": "stream",
          "text": [
            "Enter the number of Days: 5\n",
            "Enter the number of Hours: 40\n",
            "Enter the number of Minutes: 26\n",
            "Enter the number of Seconds: 15\n",
            "Total number of seconds =  577575\n"
          ],
          "name": "stdout"
        }
      ]
    },
    {
      "cell_type": "code",
      "metadata": {
        "id": "vwZlrIGZiY5X",
        "colab_type": "code",
        "colab": {
          "base_uri": "https://localhost:8080/",
          "height": 85
        },
        "outputId": "585779af-fe71-42b5-b15e-850c37ad922f"
      },
      "source": [
        "#9. sort 3 integers\n",
        "# given three integers(given through user input)sort the number using |min| and |max| functions\n",
        "a=int(input(\"enter the number of a:\"))\n",
        "b=int(input(\"enter the number of b:\"))\n",
        "c=int(input(\"enter the number of c:\"))\n",
        "d=min(a,b,c)\n",
        "e=max(a,b,c)\n",
        "f=(a+b+c)-d-e\n",
        "print(\"the sorted order is:\",d,e,f)"
      ],
      "execution_count": null,
      "outputs": [
        {
          "output_type": "stream",
          "text": [
            "enter the number of a:10\n",
            "enter the number of b:20\n",
            "enter the number of c:15\n",
            "the sorted order is: 10 20 15\n"
          ],
          "name": "stdout"
        }
      ]
    },
    {
      "cell_type": "code",
      "metadata": {
        "id": "Z0krt8oGjbVo",
        "colab_type": "code",
        "colab": {
          "base_uri": "https://localhost:8080/",
          "height": 85
        },
        "outputId": "e4a3b221-1b66-4abe-ae20-4379d06930d3"
      },
      "source": [
        "#10. write a program that reads the data from the user and computes its immediate sucessor. The data is in the format YYYY-MM-DD so, 2020-06-15\n",
        "# will have the sucessor 2020-06-16\n",
        "year=int(input(\"enter the year:\"))\n",
        "if year%400== 0:\n",
        "    leapyear=True\n",
        "elif year%100==0:\n",
        "    leapyear=False\n",
        "elif year%4==0:\n",
        "    leapyear=True\n",
        "else:\n",
        "    leapyear=False\n",
        "month=int(input(\"Enter a month between 1 to 12 : \"))\n",
        "if month in (1, 3, 5, 7, 8, 10, 12):\n",
        "    monthlength=31\n",
        "elif month==2:\n",
        "    if leapyear:\n",
        "        monthlength=29\n",
        "    else:\n",
        "        monthlength=28\n",
        "else:\n",
        "    monthlength=30\n",
        "day=int(input(\"Enter a day between 1 to 31 : \"))\n",
        "if day<monthlength:\n",
        "    day+=1\n",
        "else:\n",
        "    day=1\n",
        "    if month==12:\n",
        "        month=1\n",
        "        year+=1\n",
        "    else:\n",
        "        month+=1\n",
        "print(\"The immediate successor is YYYY-MM-DD : %d-%d-%d.\" %(year,month,day))"
      ],
      "execution_count": null,
      "outputs": [
        {
          "output_type": "stream",
          "text": [
            "enter the year:2001\n",
            "Enter a month between 1 to 12 : 3\n",
            "Enter a day between 1 to 31 : 4\n",
            "The immediate successor is YYYY-MM-DD : 2001-3-5.\n"
          ],
          "name": "stdout"
        }
      ]
    },
    {
      "cell_type": "code",
      "metadata": {
        "id": "A0Z9EcYxk6wf",
        "colab_type": "code",
        "colab": {
          "base_uri": "https://localhost:8080/",
          "height": 34
        },
        "outputId": "eaefd66c-335e-45e1-a30c-819d2073c384"
      },
      "source": [
        "#11. compute product of a list of numbers (45,3,2,89,72,1,10,7)\n",
        "# output: 121111200\n",
        "list=(45,3,2,89,72,1,10,7)\n",
        "n=1\n",
        "for i in range (len(list)):\n",
        "  n=n*list[i]\n",
        "print (n)"
      ],
      "execution_count": null,
      "outputs": [
        {
          "output_type": "stream",
          "text": [
            "121111200\n"
          ],
          "name": "stdout"
        }
      ]
    },
    {
      "cell_type": "code",
      "metadata": {
        "id": "fHfRZ7CooS7e",
        "colab_type": "code",
        "colab": {
          "base_uri": "https://localhost:8080/",
          "height": 34
        },
        "outputId": "227988f8-ffc3-497d-fb6e-e2c0fcabb756"
      },
      "source": [
        "#12. Compute given num_list [5,6,8,34,89,1] to get desired output\n",
        "# output:out_list (11,14,42,123,90)\n",
        "l=5,6,8,34,89,1\n",
        "out_list=[]\n",
        "for i in range(len(l)-1):\n",
        "    ol=l[i]+l[i+1]\n",
        "    out_list.append (ol)\n",
        "print(\"out_list=\",out_list)"
      ],
      "execution_count": null,
      "outputs": [
        {
          "output_type": "stream",
          "text": [
            "out_list= [11, 14, 42, 123, 90]\n"
          ],
          "name": "stdout"
        }
      ]
    },
    {
      "cell_type": "code",
      "metadata": {
        "id": "3G49VvZXpo79",
        "colab_type": "code",
        "colab": {
          "base_uri": "https://localhost:8080/",
          "height": 34
        },
        "outputId": "beb3fa9b-bd20-4cb4-b2fe-b01d85f931c5"
      },
      "source": [
        "#13.  Compute given Num_tuple \n",
        "t=(5,6,8,3,9,1)\n",
        "I=[]\n",
        "n=1\n",
        "for i in t:\n",
        "  n*=i\n",
        "  I.append(n)\n",
        "print(\"the output list is\",I)"
      ],
      "execution_count": 12,
      "outputs": [
        {
          "output_type": "stream",
          "text": [
            "the output list is [5, 30, 240, 720, 6480, 6480]\n"
          ],
          "name": "stdout"
        }
      ]
    },
    {
      "cell_type": "code",
      "metadata": {
        "id": "BaHYEVtgq6iL",
        "colab_type": "code",
        "colab": {
          "base_uri": "https://localhost:8080/",
          "height": 51
        },
        "outputId": "3e6874d2-5df6-4e60-d4db-6c024e6dd9c7"
      },
      "source": [
        "#14. write a python code that takes a number and returns a list of its digits. So far 586392 it should be return to [5,6,3,9,2]\n",
        "number=input(\"enter a numbers:\")\n",
        "list=[]\n",
        "for n in range(len(number)):\n",
        "  list.append(number[n])\n",
        "print(list)"
      ],
      "execution_count": 13,
      "outputs": [
        {
          "output_type": "stream",
          "text": [
            "enter a numbers:1235846264\n",
            "['1', '2', '3', '5', '8', '4', '6', '2', '6', '4']\n"
          ],
          "name": "stdout"
        }
      ]
    },
    {
      "cell_type": "code",
      "metadata": {
        "id": "y0JZhYPdA7p0",
        "colab_type": "code",
        "colab": {
          "base_uri": "https://localhost:8080/",
          "height": 51
        },
        "outputId": "da828e1e-6e45-441b-b90e-441ea2171e12"
      },
      "source": [
        "#15. Write a program that finds the longest palindromic substring of a given string.\n",
        "\n",
        "def longestpalindrome(n):\n",
        "    d=[[False for i in range(len(n))] for i in range(len(n))]\n",
        "    for i in range(len(n)):\n",
        "        d[i][i]=True\n",
        "    maxlen=1\n",
        "    start=0\n",
        "    for j in range(2,len(n)+1):\n",
        "        for i in range(len(n)-j+1):\n",
        "            end=i+j\n",
        "            if j==2:\n",
        "                if n[i]==n[end-1]:\n",
        "                    d[i][end-1]=True\n",
        "                    maxlen=j\n",
        "                    start=i\n",
        "            else:\n",
        "                  if n[i]==n[end-1] and d[i+1][end-2]:\n",
        "                    d[i][end-1]=True\n",
        "                    maxlen=j\n",
        "                    start=i\n",
        "    return n[start:start+maxlen]\n",
        "n=input(\"Enter a string : \")\n",
        "print(longestpalindrome(n))"
      ],
      "execution_count": 14,
      "outputs": [
        {
          "output_type": "stream",
          "text": [
            "Enter a string : madam\n",
            "madam\n"
          ],
          "name": "stdout"
        }
      ]
    },
    {
      "cell_type": "code",
      "metadata": {
        "id": "YUk6Hw73BNHc",
        "colab_type": "code",
        "colab": {
          "base_uri": "https://localhost:8080/",
          "height": 141
        },
        "outputId": "b66ca974-1333-423d-e76f-b7740f90ec9d"
      },
      "source": [
        "#16.  Substring Check \n",
        "t=int(input())\n",
        "for i in range(t):\n",
        "  A,B=input(\"Enter A string and B string : \").split()\n",
        "  if B in A:\n",
        "    print(\"1\")\n",
        "  else:\n",
        "    print(\"0\")"
      ],
      "execution_count": null,
      "outputs": [
        {
          "output_type": "stream",
          "text": [
            "101\n",
            "Enter A string and B string : 1011 1100\n",
            "0\n",
            "Enter A string and B string : 1100 0100\n",
            "0\n"
          ],
          "name": "stdout"
        }
      ]
    },
    {
      "cell_type": "code",
      "metadata": {
        "id": "4fBtyLj4BUqH",
        "colab_type": "code",
        "colab": {
          "base_uri": "https://localhost:8080/",
          "height": 170
        },
        "outputId": "3b1ff5d0-178b-4290-9d54-04e68e09c321"
      },
      "source": [
        "17.\n",
        "def gcd(a,b):\n",
        "    if b==0: \n",
        "        return a \n",
        "    return gcd(b,a%b) \n",
        "def countsteps(a,b,c): \n",
        "    v1=b\n",
        "    v2=0\n",
        "    count=1\n",
        "    while ((v1 is not c) and (v2 is not c)): \n",
        "        temp=min(v1,a-v2) \n",
        "        v2=v2+temp \n",
        "        v1=v1-temp \n",
        "        count=count+1\n",
        "        if ((v2==c)or(v1==c)): \n",
        "            break\n",
        "        if v1==0: \n",
        "            v1=b \n",
        "            count=count+1\n",
        "        if v2==a: \n",
        "            v2=0\n",
        "            count=count+1\n",
        "    return count \n",
        "def ispossible(a,b,c): \n",
        "    if a>b: \n",
        "        temp=a \n",
        "        a=b \n",
        "        b=temp \n",
        "    if c>b: \n",
        "        return -1\n",
        "    if (c%(gcd(b,a)) is not 0): \n",
        "        return -1\n",
        "    return(min(countsteps(b,a,c),countsteps(a,b,c)))\n",
        "t=int(input(\"Enter no of testcases : \"))\n",
        "for i in range(t):\n",
        "  a=int(input(\"Enter capacity of vessel a : \"))\n",
        "  b=int(input(\"Enter capacity of vessel b : \"))\n",
        "  c=int(input(\"Enter capacity to be obtained :\"))\n",
        "  print(\"Minimum number of steps required is : \",ispossible(a,b,c))"
      ],
      "execution_count": 19,
      "outputs": [
        {
          "output_type": "stream",
          "text": [
            "Enter no of testcases : 2\n",
            "Enter capacity of vessel a : 5\n",
            "Enter capacity of vessel b : 2\n",
            "Enter capacity to be obtained :3\n",
            "Minimum number of steps required is :  2\n",
            "Enter capacity of vessel a : 2\n",
            "Enter capacity of vessel b : 3\n",
            "Enter capacity to be obtained :4\n",
            "Minimum number of steps required is :  -1\n"
          ],
          "name": "stdout"
        }
      ]
    }
  ]
}