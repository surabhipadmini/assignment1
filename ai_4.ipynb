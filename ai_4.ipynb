{
  "nbformat": 4,
  "nbformat_minor": 0,
  "metadata": {
    "colab": {
      "name": "ai-4",
      "provenance": [],
      "authorship_tag": "ABX9TyPulAKWfYdMERLwfKVh+vid",
      "include_colab_link": true
    },
    "kernelspec": {
      "name": "python3",
      "display_name": "Python 3"
    }
  },
  "cells": [
    {
      "cell_type": "markdown",
      "metadata": {
        "id": "view-in-github",
        "colab_type": "text"
      },
      "source": [
        "<a href=\"https://colab.research.google.com/github/surabhipadmini/assignment1/blob/master/ai_4.ipynb\" target=\"_parent\"><img src=\"https://colab.research.google.com/assets/colab-badge.svg\" alt=\"Open In Colab\"/></a>"
      ]
    },
    {
      "cell_type": "code",
      "metadata": {
        "id": "u0rhtWLgDbcg",
        "outputId": "a0217761-90f2-423f-94aa-5c6aba288947",
        "colab": {
          "base_uri": "https://localhost:8080/",
          "height": 71
        }
      },
      "source": [
        "from google.colab import drive\n",
        "drive.mount('/content/drive')"
      ],
      "execution_count": null,
      "outputs": [
        {
          "output_type": "stream",
          "text": [
            "Mounted at /content/drive\n",
            "Drive already mounted at /content/drive; to attempt to forcibly remount, call drive.mount(\"/content/drive\", force_remount=True).\n"
          ],
          "name": "stdout"
        }
      ]
    },
    {
      "cell_type": "code",
      "metadata": {
        "id": "q7-0zLArGd9_",
        "outputId": "6f33674d-2342-4666-d70d-3342b2577a7f",
        "colab": {
          "base_uri": "https://localhost:8080/",
          "height": 854
        }
      },
      "source": [
        "import numpy as np\n",
        "import pandas as pd\n",
        "import matplotlib.pyplot as plt\n",
        "d=pd.read_csv(\"/content/drive/My Drive/Salary_Data.csv\")\n",
        "l=len(d.YearsExperience)\n",
        "it=list(range(1,10+1))\n",
        "error=[]\n",
        "for i in range(10):\n",
        "  w0=float(input(\"w0=\"))\n",
        "  w1=float(input(\"w1=\"))\n",
        "  yp=[]\n",
        "  er=[]\n",
        "  for j in range(1):\n",
        "    y1=w0+(w1*d.iloc[j,0])\n",
        "    yp.append(y1)\n",
        "    y=d.iloc[j,1]\n",
        "    er.append((yp[j]-y)**2)\n",
        "  e=np.mean(er)\n",
        "  print(i+1,\")\",e)\n",
        "  error.append(e)\n",
        "print(error)\n",
        "plt.plot(it,error)\n",
        "plt.xlabel(\"iteration\")\n",
        "plt.ylabel(\"error\")\n",
        "plt.scatter(it,error)"
      ],
      "execution_count": null,
      "outputs": [
        {
          "output_type": "stream",
          "text": [
            "w0=1000\n",
            "w1=2000\n",
            "1 ) 1306316449.0\n",
            "w0=2111\n",
            "w1=1112\n",
            "2 ) 1296633677.4400003\n",
            "w0=2211\n",
            "w1=1122\n",
            "3 ) 1288652044.8400002\n",
            "w0=1212\n",
            "w1=2121\n",
            "4 ) 1281489644.41\n",
            "w0=2323\n",
            "w1=3232\n",
            "5 ) 1119892839.0400002\n",
            "w0=3223\n",
            "w1=2332\n",
            "6 ) 1125924603.0400002\n",
            "w0=2112\n",
            "w1=1221\n",
            "7 ) 1287941366.41\n",
            "w0=1414\n",
            "w1=1441\n",
            "8 ) 1320879067.21\n",
            "w0=1423\n",
            "w1=1324\n",
            "9 ) 1329594124.9599998\n",
            "w0=2132\n",
            "w1=3212\n",
            "10 ) 1134194212.8400002\n",
            "[1306316449.0, 1296633677.4400003, 1288652044.8400002, 1281489644.41, 1119892839.0400002, 1125924603.0400002, 1287941366.41, 1320879067.21, 1329594124.9599998, 1134194212.8400002]\n"
          ],
          "name": "stdout"
        },
        {
          "output_type": "execute_result",
          "data": {
            "text/plain": [
              "<matplotlib.collections.PathCollection at 0x7f20fcfe6908>"
            ]
          },
          "metadata": {
            "tags": []
          },
          "execution_count": 13
        },
        {
          "output_type": "display_data",
          "data": {
            "image/png": "[encoded data removed]",
            "text/plain": [
              "<Figure size 432x288 with 1 Axes>"
            ]
          },
          "metadata": {
            "tags": [],
            "needs_background": "light"
          }
        }
      ]
    },
    {
      "cell_type": "code",
      "metadata": {
        "id": "O_hfVnHxI5P2",
        "outputId": "7874c10d-4092-46ca-bd7b-dc36e2bf4843",
        "colab": {
          "base_uri": "https://localhost:8080/",
          "height": 479
        }
      },
      "source": [
        "sn = pd.read_csv('//content/drive/My Drive/Salary_Data.csv')\n",
        "x1=sn.iloc[:,0:1]\n",
        "y1=sn.iloc[:,1:2]\n",
        "x=np.array(x1)\n",
        "plt.scatter(x1,y1)\n",
        "m=max(np.array(m1))\n",
        "c=min(np.array(c1))\n",
        "e=np.array(er)\n",
        "print(er)\n",
        "e1=min(e)\n",
        "print(er.index(e1))\n",
        "print(m1[er.index(e1)],c1[er.index(e1)])\n",
        "p=[]\n",
        "for i in range(0,len(x1)):\n",
        "  p.append(m1[er.index(e1)]*x[i]+c1[er.index(e1)])\n",
        "plt.plot(x1,p)"
      ],
      "execution_count": null,
      "outputs": [
        {
          "output_type": "error",
          "ename": "TypeError",
          "evalue": "ignored",
          "traceback": [
            "\u001b[0;31m---------------------------------------------------------------------------\u001b[0m",
            "\u001b[0;31mTypeError\u001b[0m                                 Traceback (most recent call last)",
            "\u001b[0;32m<ipython-input-41-b8fdd04c2658>\u001b[0m in \u001b[0;36m<module>\u001b[0;34m()\u001b[0m\n\u001b[1;32m      4\u001b[0m \u001b[0mx\u001b[0m\u001b[0;34m=\u001b[0m\u001b[0mnp\u001b[0m\u001b[0;34m.\u001b[0m\u001b[0marray\u001b[0m\u001b[0;34m(\u001b[0m\u001b[0mx1\u001b[0m\u001b[0;34m)\u001b[0m\u001b[0;34m\u001b[0m\u001b[0;34m\u001b[0m\u001b[0m\n\u001b[1;32m      5\u001b[0m \u001b[0mplt\u001b[0m\u001b[0;34m.\u001b[0m\u001b[0mscatter\u001b[0m\u001b[0;34m(\u001b[0m\u001b[0mx1\u001b[0m\u001b[0;34m,\u001b[0m\u001b[0my1\u001b[0m\u001b[0;34m)\u001b[0m\u001b[0;34m\u001b[0m\u001b[0;34m\u001b[0m\u001b[0m\n\u001b[0;32m----> 6\u001b[0;31m \u001b[0mm\u001b[0m\u001b[0;34m=\u001b[0m\u001b[0mmax\u001b[0m\u001b[0;34m(\u001b[0m\u001b[0mnp\u001b[0m\u001b[0;34m.\u001b[0m\u001b[0marray\u001b[0m\u001b[0;34m(\u001b[0m\u001b[0mm1\u001b[0m\u001b[0;34m)\u001b[0m\u001b[0;34m)\u001b[0m\u001b[0;34m\u001b[0m\u001b[0;34m\u001b[0m\u001b[0m\n\u001b[0m\u001b[1;32m      7\u001b[0m \u001b[0mc\u001b[0m\u001b[0;34m=\u001b[0m\u001b[0mmin\u001b[0m\u001b[0;34m(\u001b[0m\u001b[0mnp\u001b[0m\u001b[0;34m.\u001b[0m\u001b[0marray\u001b[0m\u001b[0;34m(\u001b[0m\u001b[0mc1\u001b[0m\u001b[0;34m)\u001b[0m\u001b[0;34m)\u001b[0m\u001b[0;34m\u001b[0m\u001b[0;34m\u001b[0m\u001b[0m\n\u001b[1;32m      8\u001b[0m \u001b[0me\u001b[0m\u001b[0;34m=\u001b[0m\u001b[0mnp\u001b[0m\u001b[0;34m.\u001b[0m\u001b[0marray\u001b[0m\u001b[0;34m(\u001b[0m\u001b[0mer\u001b[0m\u001b[0;34m)\u001b[0m\u001b[0;34m\u001b[0m\u001b[0;34m\u001b[0m\u001b[0m\n",
            "\u001b[0;31mTypeError\u001b[0m: iteration over a 0-d array"
          ]
        },
        {
          "output_type": "display_data",
          "data": {
            "image/png": "[encoded data removed]",
            "text/plain": [
              "<Figure size 432x288 with 1 Axes>"
            ]
          },
          "metadata": {
            "tags": [],
            "needs_background": "light"
          }
        }
      ]
    },
    {
      "cell_type": "markdown",
      "metadata": {
        "id": "wUOvLAOkKeMk"
      },
      "source": [
        "salary for 4.2 years experienced\n"
      ]
    },
    {
      "cell_type": "code",
      "metadata": {
        "id": "wq4ESWkeKjv_",
        "outputId": "6e997c33-a1d0-478b-c995-e9cadf04aed6",
        "colab": {
          "base_uri": "https://localhost:8080/",
          "height": 34
        }
      },
      "source": [
        "m=13147.313709762298\n",
        "c=59.93521298470703\n",
        "x=4.2\n",
        "y=(m*x)+c\n",
        "print(y)"
      ],
      "execution_count": null,
      "outputs": [
        {
          "output_type": "stream",
          "text": [
            "55278.652793986366\n"
          ],
          "name": "stdout"
        }
      ]
    },
    {
      "cell_type": "markdown",
      "metadata": {
        "id": "WfDLaM23KndQ"
      },
      "source": [
        "salary for 5.2 years experienced"
      ]
    },
    {
      "cell_type": "code",
      "metadata": {
        "id": "7vMGsIE2KraS",
        "outputId": "45cc90bd-90b0-4504-a241-8cbebfe52516",
        "colab": {
          "base_uri": "https://localhost:8080/",
          "height": 34
        }
      },
      "source": [
        "m=13147.313709762298\n",
        "c=59.93521298470703\n",
        "x=5.2\n",
        "y=(m*x)+c\n",
        "print(y)"
      ],
      "execution_count": null,
      "outputs": [
        {
          "output_type": "stream",
          "text": [
            "68425.96650374867\n"
          ],
          "name": "stdout"
        }
      ]
    },
    {
      "cell_type": "code",
      "metadata": {
        "id": "TIH1jlBVKwFx",
        "outputId": "73ed3916-db71-4563-aa49-97822f6fd9ad",
        "colab": {
          "base_uri": "https://localhost:8080/",
          "height": 854
        }
      },
      "source": [
        "import numpy as np\n",
        "import pandas as pd\n",
        "import matplotlib.pyplot as plt\n",
        "b=pd.read_csv(\"/content/drive/My Drive/datasets_56097_107686_headbrain.csv\")\n",
        "l=len(b.Gender)\n",
        "it=list(range(1,15+1))\n",
        "error=[]\n",
        "for i in range(15):\n",
        "  w=list(map(float,input(\"w0,w1,w2,w3=\").split(\",\"))) \n",
        "  yp=[]\n",
        "  er=[]\n",
        "  for j in range(1): \n",
        "    x0=1\n",
        "    x1=b.iloc[j,0]\n",
        "    x2=b.iloc[j,1]\n",
        "    x3=b.iloc[j,2]\n",
        "    y1=(x0 * w[0]) + (x1 * w[1]) + (x2 * w[2]) + (x3 * w[3])\n",
        "    yp.append(y1)\n",
        "    y=b.iloc[j,3]\n",
        "    er.append((yp[j]-y)**2)\n",
        "  e=np.mean(er)\n",
        "  print(i+1,\")\",e)\n",
        "  error.append(e)\n",
        "print(error)\n",
        "plt.plot(it,error)\n",
        "plt.xlabel(\"iteration\")\n",
        "plt.ylabel(\"error\")\n",
        "plt.scatter(it,error)"
      ],
      "execution_count": null,
      "outputs": [
        {
          "output_type": "stream",
          "text": [
            "w0,w1,w2,w3=1,1,1,1\n",
            "1 ) 8910225.0\n",
            "w0,w1,w2,w3=1,2,1,2\n",
            "2 ) 56220004.0\n",
            "w0,w1,w2,w3=2,1,2,1\n",
            "3 ) 8922169.0\n",
            "w0,w1,w2,w3=2,1,1,2\n",
            "4 ) 56220004.0\n",
            "w0,w1,w2,w3=1,2,2,1\n",
            "5 ) 8922169.0\n",
            "w0,w1,w2,w3=1,1,1,2\n",
            "6 ) 56205009.0\n",
            "w0,w1,w2,w3=2,1,1,1\n",
            "7 ) 8916196.0\n",
            "w0,w1,w2,w3=2,1,1,0\n",
            "8 ) 2328676.0\n",
            "w0,w1,w2,w3=1,0,0,1\n",
            "9 ) 8898289.0\n",
            "w0,w1,w2,w3=0,0,1,1\n",
            "10 ) 8898289.0\n",
            "w0,w1,w2,w3=0,1,1,0\n",
            "11 ) 2334784.0\n",
            "w0,w1,w2,w3=1,0,1,0\n",
            "12 ) 2334784.0\n",
            "w0,w1,w2,w3=2,1,0,1\n",
            "13 ) 8910225.0\n",
            "w0,w1,w2,w3=1,0,1,2\n",
            "14 ) 56190016.0\n",
            "w0,w1,w2,w3=2,3,0,1\n",
            "15 ) 8922169.0\n",
            "[8910225.0, 56220004.0, 8922169.0, 56220004.0, 8922169.0, 56205009.0, 8916196.0, 2328676.0, 8898289.0, 8898289.0, 2334784.0, 2334784.0, 8910225.0, 56190016.0, 8922169.0]\n"
          ],
          "name": "stdout"
        },
        {
          "output_type": "execute_result",
          "data": {
            "text/plain": [
              "<matplotlib.collections.PathCollection at 0x7f20fc5d2320>"
            ]
          },
          "metadata": {
            "tags": []
          },
          "execution_count": 26
        },
        {
          "output_type": "display_data",
          "data": {
            "image/png": "[encoded data removed]",
            "text/plain": [
              "<Figure size 432x288 with 1 Axes>"
            ]
          },
          "metadata": {
            "tags": [],
            "needs_background": "light"
          }
        }
      ]
    },
    {
      "cell_type": "code",
      "metadata": {
        "id": "7GFP3OuILTR5"
      },
      "source": [
        "import numpy as np\n",
        "import pandas as pd\n",
        "import matplotlib.pyplot as plt\n",
        "\n",
        "er=[]\n",
        "w_1=[]\n",
        "w_2=[]\n",
        "w_3=[]\n",
        "w_4=[]\n",
        "w_5=[]\n",
        "w_6=[]\n",
        "w_7=[]\n",
        "w_8=[]\n",
        "w_9=[]\n",
        "w_10=[]\n",
        "w_11=[]\n",
        "w_12=[]\n",
        "w_13=[]\n",
        "w_0=[]\n",
        "te=[]\n",
        "def compute_error(W0, W1, W2, W3, W4, W5, W6, W7, W8, W9, W10, W11, W12, W13, x1, x2, x3, x4, x5, x6, x7, x8, x9, x10, x11, x12, x13, y1):\n",
        "    totalError = 0\n",
        "    x1 = x1\n",
        "    x2 = x2\n",
        "    x3 = x3\n",
        "    x4 = x4\n",
        "    x5 = x5\n",
        "    x6 = x6\n",
        "    x7 = x7\n",
        "    x8 = x8\n",
        "    x9 = x9\n",
        "    x10 = x10\n",
        "    x11= x11\n",
        "    x12 = x12\n",
        "    x13 = x13\n",
        "    y1 = y1\n",
        "    #print(c,m)\n",
        "    w_1.append(W1)\n",
        "    w_2.append(W2)\n",
        "    w_3.append(W3)\n",
        "    w_4.append(W4)\n",
        "    w_5.append(W5)\n",
        "    w_6.append(W6)\n",
        "    w_7.append(W7)\n",
        "    w_8.append(W8)\n",
        "    w_9.append(W9)\n",
        "    w_10.append(W10)\n",
        "    w_11.append(W11)\n",
        "    w_12.append(W12)\n",
        "    w_13.append(W13)\n",
        "    w_0.append(W0)\n",
        "    for i in range(0,len(x1)):\n",
        "        a = (W0+W1*x1[i]+W2*x2[i]+W3*x3[i]+W4*x4[i]+W5*x5[i]+W6*x6[i]+W7*x7[i]+W8*x8[i]+W9*x9[i]+W10*x10[i]+W11*x11[i]+W12*x12[i]+W13*x13[i])\n",
        "        a=(1/(1+(np.exp(-1 * a))))\n",
        "        a = ((y1[i]*np.log2(a))+(1-y1[i])*np.log2(1-a))\n",
        "        totalError+=(a)\n",
        "      #te.append(totalError)\n",
        "    #print(te)\n",
        "    #err=(np.array(te).sum())\n",
        "    er.append(-1.0*(totalError/len(x1)))\n",
        "    #print(er)\n",
        "\n"
      ],
      "execution_count": null,
      "outputs": []
    },
    {
      "cell_type": "code",
      "metadata": {
        "id": "r-VJSl-FLseG"
      },
      "source": [
        "def step_gradient(w0_current, w1_current, w2_current, w3_current,w4_current, w5_current, w6_current, w7_current, w8_current, w9_current, w10_current, w11_current, w12_current, w13_current, x1, x2, x3, x4, x5, x6, x7, x8, x9, x10, x11, x12, x13, y1, learningRate):\n",
        "    w0_gradient = 0.0\n",
        "    w1_gradient = 0.0\n",
        "    w2_gradient = 0.0\n",
        "    w3_gradient = 0.0\n",
        "    w4_gradient = 0.0\n",
        "    w5_gradient = 0.0\n",
        "    w6_gradient = 0.0\n",
        "    w7_gradient = 0.0\n",
        "    w8_gradient = 0.0\n",
        "    w9_gradient = 0.0\n",
        "    w10_gradient = 0.0\n",
        "    w11_gradient = 0.0\n",
        "    w12_gradient = 0.0\n",
        "    w13_gradient = 0.0\n",
        "    N = float(len(x1))\n",
        "    x1 = x1\n",
        "    x2 = x2\n",
        "    x3 = x3\n",
        "    x4 = x4\n",
        "    x5 = x5\n",
        "    x6 = x6\n",
        "    x7 = x7\n",
        "    x8 = x8\n",
        "    x9 = x9\n",
        "    x10 = x10\n",
        "    x11 = x11\n",
        "    x12 = x12\n",
        "    x13 = x13\n",
        "    y1 = y1\n",
        "    wg0=[]\n",
        "    wg1=[]\n",
        "    wg2=[]\n",
        "    wg3=[]\n",
        "    wg4=[]\n",
        "    wg5=[]\n",
        "    wg6=[]\n",
        "    wg7=[]\n",
        "    wg8=[]\n",
        "    wg9=[]\n",
        "    wg10=[]\n",
        "    wg11=[]\n",
        "    wg12=[]\n",
        "    wg13=[]\n",
        "    for i in range(0,len(x1)):\n",
        "        wg0.append((w0_current+w1_current*x1[i]+w2_current*x2[i]+w3_current*x3[i]+w4_current*x4[i]+w5_current*x5[i]+w6_current*x6[i]+w7_current*x7[i]+w8_current*x8[i]+w9_current*x9[i]+w10_current*x10[i]+w11_current*x11[i]+w12_current*x12[i]+w13_current*x13[i]))\n",
        "        wg1.append(x1[i] * ((w0_current+w1_current*x1[i]+w2_current*x2[i]+w3_current*x3[i]+w4_current*x4[i]+w5_current*x5[i]+w6_current*x6[i]+w7_current*x7[i]+w8_current*x8[i]+w9_current*x9[i]+w10_current*x10[i]+w11_current*x11[i]+w12_current*x12[i]+w13_current*x13[i])))\n",
        "        wg2.append(x2[i] * ((w0_current+w1_current*x1[i]+w2_current*x2[i]+w3_current*x3[i]+w4_current*x4[i]+w5_current*x5[i]+w6_current*x6[i]+w7_current*x7[i]+w8_current*x8[i]+w9_current*x9[i]+w10_current*x10[i]+w11_current*x11[i]+w12_current*x12[i]+w13_current*x13[i])))\n",
        "        wg3.append(x3[i] * ((w0_current+w1_current*x1[i]+w2_current*x2[i]+w3_current*x3[i]+w4_current*x4[i]+w5_current*x5[i]+w6_current*x6[i]+w7_current*x7[i]+w8_current*x8[i]+w9_current*x9[i]+w10_current*x10[i]+w11_current*x11[i]+w12_current*x12[i]+w13_current*x13[i])))\n",
        "        wg4.append(x4[i] * ((w0_current+w1_current*x1[i]+w2_current*x2[i]+w3_current*x3[i]+w4_current*x4[i]+w5_current*x5[i]+w6_current*x6[i]+w7_current*x7[i]+w8_current*x8[i]+w9_current*x9[i]+w10_current*x10[i]+w11_current*x11[i]+w12_current*x12[i]+w13_current*x13[i])))\n",
        "        wg5.append(x5[i] * ((w0_current+w1_current*x1[i]+w2_current*x2[i]+w3_current*x3[i]+w4_current*x4[i]+w5_current*x5[i]+w6_current*x6[i]+w7_current*x7[i]+w8_current*x8[i]+w9_current*x9[i]+w10_current*x10[i]+w11_current*x11[i]+w12_current*x12[i]+w13_current*x13[i])))\n",
        "        wg6.append(x6[i] * ((w0_current+w1_current*x1[i]+w2_current*x2[i]+w3_current*x3[i]+w4_current*x4[i]+w5_current*x5[i]+w6_current*x6[i]+w7_current*x7[i]+w8_current*x8[i]+w9_current*x9[i]+w10_current*x10[i]+w11_current*x11[i]+w12_current*x12[i]+w13_current*x13[i])))\n",
        "        wg7.append(x7[i] * ((w0_current+w1_current*x1[i]+w2_current*x2[i]+w3_current*x3[i]+w4_current*x4[i]+w5_current*x5[i]+w6_current*x6[i]+w7_current*x7[i]+w8_current*x8[i]+w9_current*x9[i]+w10_current*x10[i]+w11_current*x11[i]+w12_current*x12[i]+w13_current*x13[i])))\n",
        "        wg8.append(x8[i] * ((w0_current+w1_current*x1[i]+w2_current*x2[i]+w3_current*x3[i]+w4_current*x4[i]+w5_current*x5[i]+w6_current*x6[i]+w7_current*x7[i]+w8_current*x8[i]+w9_current*x9[i]+w10_current*x10[i]+w11_current*x11[i]+w12_current*x12[i]+w13_current*x13[i])))\n",
        "        wg9.append(x9[i] * ((w0_current+w1_current*x1[i]+w2_current*x2[i]+w3_current*x3[i]+w4_current*x4[i]+w5_current*x5[i]+w6_current*x6[i]+w7_current*x7[i]+w8_current*x8[i]+w9_current*x9[i]+w10_current*x10[i]+w11_current*x11[i]+w12_current*x12[i]+w13_current*x13[i])))\n",
        "        wg10.append(x10[i] * ((w0_current+w1_current*x1[i]+w2_current*x2[i]+w3_current*x3[i]+w4_current*x4[i]+w5_current*x5[i]+w6_current*x6[i]+w7_current*x7[i]+w8_current*x8[i]+w9_current*x9[i]+w10_current*x10[i]+w11_current*x11[i]+w12_current*x12[i]+w13_current*x13[i])))\n",
        "        wg11.append(x11[i] * ((w0_current+w1_current*x1[i]+w2_current*x2[i]+w3_current*x3[i]+w4_current*x4[i]+w5_current*x5[i]+w6_current*x6[i]+w7_current*x7[i]+w8_current*x8[i]+w9_current*x9[i]+w10_current*x10[i]+w11_current*x11[i]+w12_current*x12[i]+w13_current*x13[i])))\n",
        "        wg12.append(x12[i] * ((w0_current+w1_current*x1[i]+w2_current*x2[i]+w3_current*x3[i]+w4_current*x4[i]+w5_current*x5[i]+w6_current*x6[i]+w7_current*x7[i]+w8_current*x8[i]+w9_current*x9[i]+w10_current*x10[i]+w11_current*x11[i]+w12_current*x12[i]+w13_current*x13[i])))\n",
        "        wg13.append(x13[i] * ((w0_current+w1_current*x1[i]+w2_current*x2[i]+w3_current*x3[i]+w4_current*x4[i]+w5_current*x5[i]+w6_current*x6[i]+w7_current*x7[i]+w8_current*x8[i]+w9_current*x9[i]+w10_current*x10[i]+w11_current*x11[i]+w12_current*x12[i]+w13_current*x13[i])))\n",
        "        wg0[i] = (1/(1+(np.exp(-1 * wg0[i]))))\n",
        "        wg1[i] = (1/(1+(np.exp(-1 * wg1[i]))))\n",
        "        wg2[i] = (1/(1+(np.exp(-1 * wg2[i]))))\n",
        "        wg3[i] = (1/(1+(np.exp(-1 * wg3[i]))))\n",
        "        wg4[i] = (1/(1+(np.exp(-1 * wg4[i]))))\n",
        "        wg5[i] = (1/(1+(np.exp(-1 * wg5[i]))))\n",
        "        wg6[i] = (1/(1+(np.exp(-1 * wg6[i]))))\n",
        "        wg7[i] = (1/(1+(np.exp(-1 * wg7[i]))))\n",
        "        wg8[i] = (1/(1+(np.exp(-1 * wg8[i]))))\n",
        "        wg9[i] = (1/(1+(np.exp(-1 * wg9[i]))))\n",
        "        wg10[i] = (1/(1+(np.exp(-1 * wg10[i]))))\n",
        "        wg11[i] = (1/(1+(np.exp(-1 * wg11[i]))))\n",
        "        wg12[i] = (1/(1+(np.exp(-1 * wg12[i]))))\n",
        "        wg13[i] = (1/(1+(np.exp(-1 * wg13[i]))))\n",
        "        \n",
        "        wg0[i] =(y1[i]-wg0[i]) \n",
        "        wg1[i] =(x1[i]*(y1[i]-wg1[i])) \n",
        "        wg2[i] = (x2[i]*(y1[i]-wg2[i]))\n",
        "        wg3[i] = (x3[i]*(y1[i]-wg3[i]))\n",
        "        wg4[i] = (x4[i]*(y1[i]-wg4[i]))\n",
        "        wg5[i] = (x5[i]*(y1[i]-wg5[i]))\n",
        "        wg6[i] = (x6[i]*(y1[i]-wg6[i]))\n",
        "        wg7[i] = (x7[i]*(y1[i]-wg7[i]))\n",
        "        wg8[i] = (x8[i]*(y1[i]-wg8[i]))\n",
        "        wg9[i] = (x9[i]*(y1[i]-wg9[i]))\n",
        "        wg10[i] =(x10[i]*(y1[i]-wg10[i]))\n",
        "        wg11[i] =(x11[i]*(y1[i]-wg11[i]))\n",
        "        wg12[i] = (x12[i]*(y1[i]-wg12[i]))\n",
        "        wg13[i] = (x13[i]*(y1[i]-wg13[i]))\n",
        "        \n",
        "        \n",
        "        \n",
        "    \n",
        "    w0_gradient=(np.array(wg0).sum())/N\n",
        "    w1_gradient=(np.array(wg1).sum())/N\n",
        "    w2_gradient=(np.array(wg2).sum())/N\n",
        "    w3_gradient=(np.array(wg3).sum())/N\n",
        "    w4_gradient=(np.array(wg4).sum())/N\n",
        "    w5_gradient=(np.array(wg5).sum())/N\n",
        "    w6_gradient=(np.array(wg6).sum())/N\n",
        "    w7_gradient=(np.array(wg7).sum())/N\n",
        "    w8_gradient=(np.array(wg8).sum())/N\n",
        "    w9_gradient=(np.array(wg9).sum())/N\n",
        "    w10_gradient=(np.array(wg10).sum())/N\n",
        "    w11_gradient=(np.array(wg11).sum())/N\n",
        "    w12_gradient=(np.array(wg12).sum())/N\n",
        "    w13_gradient=(np.array(wg13).sum())/N\n",
        "    new_w0 = w0_current - (learningRate * w0_gradient)\n",
        "    new_w1 = w1_current - (learningRate * w1_gradient)\n",
        "    new_w2 = w2_current - (learningRate * w2_gradient)\n",
        "    new_w3 = w3_current - (learningRate * w3_gradient)\n",
        "    new_w4 = w4_current - (learningRate * w4_gradient)\n",
        "    new_w5 = w5_current - (learningRate * w5_gradient)\n",
        "    new_w6 = w6_current - (learningRate * w6_gradient)\n",
        "    new_w7 = w7_current - (learningRate * w7_gradient)\n",
        "    new_w8 = w8_current - (learningRate * w8_gradient)\n",
        "    new_w9 = w9_current - (learningRate * w9_gradient)\n",
        "    new_w10 = w10_current - (learningRate * w10_gradient)\n",
        "    new_w11 = w11_current - (learningRate * w11_gradient)\n",
        "    new_w12 = w12_current - (learningRate * w12_gradient)\n",
        "    new_w13 = w13_current - (learningRate * w13_gradient)\n",
        "    compute_error(new_w0,new_w1,new_w2,new_w3,new_w4,new_w5,new_w6,new_w7,new_w8,new_w9,new_w10,new_w11,new_w12,new_w13,x1,x2,x3,x4,x5,x6,x7,x8,x9,x10,x11,x12,x13, y1)\n",
        "    return [new_w0,new_w1,new_w2,new_w3,new_w4,new_w5,new_w6,new_w7,new_w8,new_w9,new_w10,new_w11,new_w12,new_w13]\n",
        "\n",
        "def gradient_descent_runner(x1, x2, x3,  x4, x5, x6, x7, x8, x9, x10, x11, x12, x13,y1, starting_w0, starting_w1, starting_w2,starting_w3, starting_w4, starting_w5, starting_w6, starting_w7, starting_w8, starting_w9, starting_w10, starting_w11, starting_w12, starting_w13, learning_rate, num_iterations):\n",
        "    w0 = starting_w0\n",
        "    w1 = starting_w1\n",
        "    w2 = starting_w2\n",
        "    w3 = starting_w3\n",
        "    w4 = starting_w4\n",
        "    w5 = starting_w5\n",
        "    w6 = starting_w6\n",
        "    w7 = starting_w7\n",
        "    w8 = starting_w8\n",
        "    w9 = starting_w9\n",
        "    w10 = starting_w10\n",
        "    w11= starting_w11\n",
        "    w12 = starting_w12\n",
        "    w13 = starting_w13\n",
        "    for i in range(num_iterations):\n",
        "        w0, w1, w2, w3,w4, w5, w6, w7, w8, w9, w10, w11, w12, w13 = step_gradient(w0, w1, w2, w3, w4, w5, w6, w7, w8, w9, w10, w11, w12, w13, x1, x2, x3,x4,x5,x6,x7,x8,x9,x10,x11,x12,x13, y1, learning_rate)\n",
        "      #print(c,m)\n",
        "   \n"
      ],
      "execution_count": null,
      "outputs": []
    },
    {
      "cell_type": "code",
      "metadata": {
        "id": "KbTPl-SyL7qK"
      },
      "source": [
        "def run():\n",
        "    data = pd.read_csv('//content/drive/My Drive/heart.csv')\n",
        "    z=[]\n",
        "    for x in data.columns:\n",
        "        z.append(x)\n",
        "    data=data[z].apply(lambda rec:(rec - rec.mean())/rec.std(), axis=0)\n",
        "    sn = data\n",
        "    x11=sn.iloc[:,0:1]\n",
        "    x22=sn.iloc[:,1:2]\n",
        "    x33=sn.iloc[:,2:3]\n",
        "    x44=sn.iloc[:,3:4]\n",
        "    x55=sn.iloc[:,4:5]\n",
        "    x66=sn.iloc[:,5:6]\n",
        "    x77=sn.iloc[:,6:7]\n",
        "    x88=sn.iloc[:,7:8]\n",
        "    x99=sn.iloc[:,8:9]\n",
        "    x1010=sn.iloc[:,9:10]\n",
        "    x1111=sn.iloc[:,10:11]\n",
        "    x1212=sn.iloc[:,11:12]\n",
        "    x1313=sn.iloc[:,12:13]\n",
        "    y11=sn.iloc[:,3:4]\n",
        "    x1=np.array(x11)\n",
        "    x2=np.array(x22)\n",
        "    x3=np.array(x33)\n",
        "    x4=np.array(x44)\n",
        "    x5=np.array(x55)\n",
        "    x6=np.array(x66)\n",
        "    x7=np.array(x77)\n",
        "    x8=np.array(x88)\n",
        "    x9=np.array(x99)\n",
        "    x10=np.array(x1010)\n",
        "    x11=np.array(x1111)\n",
        "    x12=np.array(x1212)\n",
        "    x13=np.array(x1313)\n",
        "    y1=np.array(y11)\n",
        "    learning_rate = 0.001\n",
        "    initial_w0 = 1 \n",
        "    initial_w1 = 1 \n",
        "    initial_w2 = 1\n",
        "    initial_w3 = 1\n",
        "    initial_w4 = 1\n",
        "    initial_w5 = 1\n",
        "    initial_w6 = 1\n",
        "    initial_w7 = 1\n",
        "    initial_w8 = 1\n",
        "    initial_w9 = 1\n",
        "    initial_w10 = 1\n",
        "    initial_w11 = 1\n",
        "    initial_w12 = 1\n",
        "    initial_w13 = 1\n",
        "    num_iterations = 10\n",
        "    compute_error(initial_w0, initial_w1, initial_w2, initial_w3, initial_w4, initial_w5, initial_w6, initial_w7, initial_w8, initial_w9, initial_w10, initial_w11, initial_w12, initial_w13, x1, x2, x3,x4,x5,x6,x7,x8,x9,x10,x11,x12,x13, y1)\n",
        "    gradient_descent_runner(x1, x2, x3,x4,x5,x6,x7,x8,x9,x10,x11,x12,x13, y1, initial_w0, initial_w1, initial_w2,initial_w3,initial_w4,initial_w5,initial_w6,initial_w7,initial_w8,initial_w9,initial_w10,initial_w11,initial_w12, initial_w13,learning_rate, num_iterations)\n",
        "\n",
        "\n",
        "run()\n",
        "it=np.arange(0,11)\n",
        "#print(er)\n",
        "#plt.plot(it,er)"
      ],
      "execution_count": null,
      "outputs": []
    },
    {
      "cell_type": "code",
      "metadata": {
        "id": "60faX-oZL-EW",
        "outputId": "651597d2-8f77-44de-efe5-74014d8c981b",
        "colab": {
          "base_uri": "https://localhost:8080/",
          "height": 309
        }
      },
      "source": [
        "sn = pd.read_csv('/content/drive/My Drive/heart.csv')\n",
        "x1=sn.iloc[:,0:1]\n",
        "x2=sn.iloc[:,1:2]\n",
        "x3=sn.iloc[:,2:3]\n",
        "x4=sn.iloc[:,3:4]\n",
        "x5=sn.iloc[:,4:5]\n",
        "x6=sn.iloc[:,5:6]\n",
        "x7=sn.iloc[:,6:7]\n",
        "x8=sn.iloc[:,7:8]\n",
        "x9=sn.iloc[:,8:9]\n",
        "x10=sn.iloc[:,9:10]\n",
        "x11=sn.iloc[:,10:11]\n",
        "x12=sn.iloc[:,11:12]\n",
        "x13=sn.iloc[:,12:13]\n",
        "y1=sn.iloc[:,13:14]\n",
        "w0=w_0\n",
        "w1=w_1\n",
        "w2=w_2\n",
        "w3=w_3\n",
        "w4=w_4\n",
        "w5=w_5\n",
        "w6=w_6\n",
        "w7=w_7\n",
        "w8=w_8\n",
        "w9=w_9\n",
        "w10=w_10\n",
        "w11=w_11\n",
        "w12=w_12\n",
        "w13=w_13\n",
        "print(er)\n",
        "e1=min(er)\n",
        "indexx=er.index(e1)\n",
        "print(indexx)\n",
        "a1=float(input('enter age : '))\n",
        "a2=float(input('enter sex : '))\n",
        "a3=float(input('Head cp : '))\n",
        "a4=float(input('enter testbps : '))\n",
        "a5=float(input('enter chol : '))\n",
        "a6=float(input('enter fbs : '))\n",
        "a7=float(input('enter restecg : '))\n",
        "a8=float(input('enter thalach : '))\n",
        "a9=float(input('enter exang : '))\n",
        "a10=float(input('enter oldpeak: '))\n",
        "a11=float(input('enter slope: '))\n",
        "a12=float(input('enter ca: '))\n",
        "a13=float(input('enter thal : '))\n",
        "k = w1[indexx]*a1+w2[indexx]*a2+w3[indexx]*a3+w0[indexx]+w4[indexx]*a4+w5[indexx]*a5+w6[indexx]*a6+w7[indexx]*a7+w8[indexx]*a8+w9[indexx]*a9+w10[indexx]*a10+w11[indexx]*a11+w12[indexx]*a12+w13[indexx]*a13\n",
        "k = (1/(1+np.exp(-1*k)))\n",
        "print(k)"
      ],
      "execution_count": null,
      "outputs": [
        {
          "output_type": "stream",
          "text": [
            "[array([0.7113902]), array([0.71315864]), array([0.71492732]), array([0.71669622]), array([0.71846536]), array([0.72023473]), array([0.72200433]), array([0.72377417]), array([0.72554424]), array([0.72731454]), array([0.72908507])]\n",
            "0\n",
            "enter age : 55\n",
            "enter sex : 1\n",
            "Head cp : 2\n",
            "enter testbps : 144\n",
            "enter chol : 1\n",
            "enter fbs : 1\n",
            "enter restecg : 145\n",
            "enter thalach : 1\n",
            "enter exang : 1\n",
            "enter oldpeak: 2.4\n",
            "enter slope: 2\n",
            "enter ca: 0\n",
            "enter thal : 1\n",
            "1.0\n"
          ],
          "name": "stdout"
        }
      ]
    }
  ]
}